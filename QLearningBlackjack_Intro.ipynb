{
 "cells": [
  {
   "cell_type": "markdown",
   "metadata": {},
   "source": [
    "# Q Learning and the Game of Blackjack"
   ]
  },
  {
   "cell_type": "markdown",
   "metadata": {},
   "source": [
    "Q-Learning is a machine learning technique which is useful in a risk and reward environment, such as a game. It's attractive for stochastic situations, in which the perception of the environment is not complete, because it doesn't have to calculate the probabilities of all possibilities in any given state. It can continuously collect and store information and deduce an optimal policy from the outcomes of what's already happened. The more it plays, the more it learns, and the better it gets at choosing the right thing."
   ]
  },
  {
   "cell_type": "markdown",
   "metadata": {},
   "source": [
    "To start, let's write some routines to simulate a game of Blackjack.\n",
    "\n",
    "* Blackjack is played with a normal deck of playing cards. To make things interesting, games are often played using more than one deck."
   ]
  },
  {
   "cell_type": "code",
   "execution_count": 1,
   "metadata": {
    "collapsed": true
   },
   "outputs": [],
   "source": [
    "import random\n",
    "#\n",
    "# Cards are dealt from a shoe, or a chute containing a number\n",
    "# of decks of cards which are randomly shuffled.\n",
    "# For this exercise, there's no need to differentiate between\n",
    "# individual cards, so we'll keep instances of point value instead.\n",
    "#\n",
    "# There are 52 cards in a deck. Each deck contains 4 suits of 13 cards each:\n",
    "#     numbered cards with value 2-10\n",
    "#     face cards: Jack, Queen, King, and Ace valued at 10, 10, 10, and 11/1 respectively\n",
    "#\n",
    "class Shoe:\n",
    "    _suit = [2,3,4,5,6,7,8,9,10,10,10,10,11]\n",
    "    _shoeSize = 0\n",
    "    \n",
    "    def __init__(self,deckCount):\n",
    "        self._shoeSize = deckCount\n",
    "        self._shuffle()\n",
    "\n",
    "    def _shuffle(self):\n",
    "        # [re]fill the shoe and shuffle the order of cards in it\n",
    "        self.cards = []\n",
    "        for i in range(self._shoeSize*4):\n",
    "            self.cards += self._suit\n",
    "        random.shuffle(self.cards)\n",
    "\n",
    "    def draw(self):\n",
    "        # Give out one card from the end of the shoe\n",
    "        if len(self.cards) < ((self._shoeSize*52) * .20):\n",
    "            self._shuffle()\n",
    "            \n",
    "        return self.cards.pop()\n"
   ]
  },
  {
   "cell_type": "markdown",
   "metadata": {},
   "source": [
    "Let's take a look at a shoe that contains 2 decks. The cards have been loaded into the shoe and then shuffled, or randomized."
   ]
  },
  {
   "cell_type": "code",
   "execution_count": 2,
   "metadata": {},
   "outputs": [
    {
     "name": "stdout",
     "output_type": "stream",
     "text": [
      "[5, 10, 2, 9, 2, 8, 4, 3, 3, 2, 4, 9, 3, 8, 5, 3, 10, 10, 10, 11, 5, 3, 2, 5, 9, 9, 2, 6, 11, 7, 9, 11, 3, 4, 10, 4, 9, 6, 6, 10, 9, 10, 7, 4, 10, 3, 4, 10, 8, 3, 8, 7, 11, 6, 5, 10, 10, 10, 10, 8, 10, 2, 10, 10, 2, 10, 11, 11, 11, 10, 10, 5, 5, 10, 4, 10, 5, 10, 4, 10, 6, 8, 10, 7, 10, 7, 10, 7, 8, 6, 10, 11, 8, 10, 6, 9, 10, 2, 7, 6, 10, 7, 10, 10]\n"
     ]
    }
   ],
   "source": [
    "shoe = Shoe(2)\n",
    "print(shoe.cards)"
   ]
  },
  {
   "cell_type": "markdown",
   "metadata": {},
   "source": [
    "Notice how we're not really interested in the suits of cards, they don't matter to the game. Only the point value of the cards matters. Points correspond to the number of pips on each card, except for face cards which are worth 10 points. The Ace is a special exception: it can be either 1 point or 11, and the player gets to choose which. Usually, it's counted as 11 untless the hand goes over 21.\n",
    "\n",
    "The draw() method of the Shoe class takes a card off of the list. Just like in a casino, if the shoe gets close to empty, it gets reloaded and all the cards are shuffled together."
   ]
  },
  {
   "cell_type": "code",
   "execution_count": 3,
   "metadata": {},
   "outputs": [
    {
     "name": "stdout",
     "output_type": "stream",
     "text": [
      "10\n",
      "10\n",
      "7\n",
      "10\n",
      "6\n",
      "[5, 10, 2, 9, 2, 8, 4, 3, 3, 2, 4, 9, 3, 8, 5, 3, 10, 10, 10, 11, 5, 3, 2, 5, 9, 9, 2, 6, 11, 7, 9, 11, 3, 4, 10, 4, 9, 6, 6, 10, 9, 10, 7, 4, 10, 3, 4, 10, 8, 3, 8, 7, 11, 6, 5, 10, 10, 10, 10, 8, 10, 2, 10, 10, 2, 10, 11, 11, 11, 10, 10, 5, 5, 10, 4, 10, 5, 10, 4, 10, 6, 8, 10, 7, 10, 7, 10, 7, 8, 6, 10, 11, 8, 10, 6, 9, 10, 2, 7]\n"
     ]
    }
   ],
   "source": [
    "len(shoe.cards)\n",
    "for i in range(5):\n",
    "    print(shoe.draw())\n",
    "print(shoe.cards)"
   ]
  },
  {
   "cell_type": "markdown",
   "metadata": {},
   "source": [
    "* There are at least 2 players. In Blackjack, there is one Dealer and one or more Players. The Dealer is in control of the game; she hands out the cards. All other players go head-to-head with the Dealer. They are in competition with eacher other only in the sense that there is one pool of cards from which they can draw.\n",
    "* The object of the game is to reach a hand worth as close to 21 points as possible without going over. A hand of 21 points using only 2 cards is called Blackjack."
   ]
  },
  {
   "cell_type": "code",
   "execution_count": 8,
   "metadata": {
    "collapsed": true
   },
   "outputs": [],
   "source": [
    "# %load player.py\n",
    "# Player class\n",
    "\n",
    "class Player:\n",
    "    def __init__(self):\n",
    "        self.reset()\n",
    "\n",
    "    def reset(self):\n",
    "        self.hand = []\n",
    "        \n",
    "    def receive(self,card):\n",
    "        self.hand += [card]\n",
    "        \n",
    "    def getPoints(self):\n",
    "        points = sum(self.hand)\n",
    "        if points <= 21:\n",
    "            return points\n",
    "\n",
    "        while (points > 21) and (11 in self.hand):\n",
    "            self.hand[self.hand.index(11)] = 1\n",
    "            points = sum(self.hand)\n",
    "\n",
    "        return points\n",
    "        \n"
   ]
  },
  {
   "cell_type": "markdown",
   "metadata": {},
   "source": [
    "* A round starts when the Dealer distributes 2 cards to each player, including herself, one at a time in succession. Each player decides to draw more cards or stay, depending on how many points already acculumated in the hand and the value of the one card that the Dealer is showing from her hand.\n",
    "* When all players have rested on their bet, the Dealer plays out her hand. Dealers follow special rules; they must continue to draw cards until they have reached at least 17 points. They must stay at 17 points or more.\n",
    "* After the Dealer finishes, points are compared with each player. If a player has more points than the Dealer without either going over 21, the player wins; otherwise, the Dealer wins."
   ]
  },
  {
   "cell_type": "code",
   "execution_count": 23,
   "metadata": {},
   "outputs": [
    {
     "name": "stdout",
     "output_type": "stream",
     "text": [
      "Dealer's hand: [10, 5] (15)\n",
      "Player's hand: [4, 11] (15)\n",
      "Player stays.\n",
      "Dealer hits...\n",
      "New hand: [10, 5, 10] (25)\n",
      "Dealer stays.\n",
      "Dealer busted :-(\n"
     ]
    }
   ],
   "source": [
    "# Playing a basic round of Blackjack\n",
    "\n",
    "def hit(p,s):\n",
    "    p.receive(s.draw())\n",
    "    print(\"New hand: {} ({})\".format(p.hand,p.getPoints()))\n",
    "\n",
    "def newHand(d,p,s):\n",
    "    p.reset()\n",
    "    d.reset()\n",
    "    deal(d,p,s)\n",
    "\n",
    "# Deal\n",
    "def deal(d,p,s):\n",
    "    d.receive(s.draw())\n",
    "    p.receive(s.draw())\n",
    "    d.receive(s.draw())\n",
    "    p.receive(s.draw())\n",
    "    print(\"Dealer's hand: {} ({})\".format(dealer.hand,dealer.getPoints()))\n",
    "    print(\"Player's hand: {} ({})\".format(player.hand,player.getPoints()))\n",
    "\n",
    "#\n",
    "# Start up\n",
    "#\n",
    "\n",
    "shoe = Shoe(1)\n",
    "dealer = Player()\n",
    "player = Player()\n",
    "\n",
    "deal(dealer,player,shoe)\n",
    "\n",
    "if dealer.getPoints() == 21:\n",
    "    print(\"Dealer wins! Player loses :-(\")\n",
    "elif player.getPoints() == 21:\n",
    "    print(\"Player wins! Dealer loses!\")\n",
    "else:\n",
    "    while player.getPoints() < 21 and player.getPoints() < dealer.getPoints():\n",
    "        print(\"Player hits...\")\n",
    "        hit(player,shoe)\n",
    "    print(\"Player stays.\")\n",
    "    while dealer.getPoints() < 17:\n",
    "        print(\"Dealer hits...\")\n",
    "        hit(dealer,shoe)\n",
    "    print(\"Dealer stays.\")\n",
    "    if player.getPoints() > 21:\n",
    "        print(\"Player busted :-(\")\n",
    "    elif dealer.getPoints() > 21:\n",
    "        print(\"Dealer busted :-(\")\n",
    "    elif player.getPoints() > dealer.getPoints():\n",
    "        print(\"Player wins!\")\n",
    "    elif dealer.getPoints() > player.getPoints():\n",
    "        print(\"Dealer wins :-(\")\n",
    "    else:\n",
    "        print(\"Hand is a draw: no winner.\")\n"
   ]
  },
  {
   "cell_type": "markdown",
   "metadata": {},
   "source": [
    "This is a pretty bad strategy. Let's learn a better one."
   ]
  }
 ],
 "metadata": {
  "kernelspec": {
   "display_name": "Python 3",
   "language": "python",
   "name": "python3"
  },
  "language_info": {
   "codemirror_mode": {
    "name": "ipython",
    "version": 3
   },
   "file_extension": ".py",
   "mimetype": "text/x-python",
   "name": "python",
   "nbconvert_exporter": "python",
   "pygments_lexer": "ipython3",
   "version": "3.5.2"
  }
 },
 "nbformat": 4,
 "nbformat_minor": 2
}
